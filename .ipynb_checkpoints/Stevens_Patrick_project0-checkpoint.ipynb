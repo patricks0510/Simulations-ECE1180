{
 "cells": [
  {
   "cell_type": "code",
   "execution_count": 1,
   "id": "f87b7dbd",
   "metadata": {
    "scrolled": false
   },
   "outputs": [
    {
     "data": {
      "text/html": [
       "<div id=\"glowscript\" class=\"glowscript\"></div>"
      ],
      "text/plain": [
       "<IPython.core.display.HTML object>"
      ]
     },
     "metadata": {},
     "output_type": "display_data"
    },
    {
     "data": {
      "application/javascript": [
       "if (typeof Jupyter !== \"undefined\") { window.__context = { glowscript_container: $(\"#glowscript\").removeAttr(\"id\")};}else{ element.textContent = ' ';}"
      ],
      "text/plain": [
       "<IPython.core.display.Javascript object>"
      ]
     },
     "metadata": {},
     "output_type": "display_data"
    },
    {
     "data": {
      "text/html": [
       "<div id=\"glowscript\" class=\"glowscript\"></div>"
      ],
      "text/plain": [
       "<IPython.core.display.HTML object>"
      ]
     },
     "metadata": {},
     "output_type": "display_data"
    },
    {
     "data": {
      "application/javascript": [
       "if (typeof Jupyter !== \"undefined\") { window.__context = { glowscript_container: $(\"#glowscript\").removeAttr(\"id\")};}else{ element.textContent = ' ';}"
      ],
      "text/plain": [
       "<IPython.core.display.Javascript object>"
      ]
     },
     "metadata": {},
     "output_type": "display_data"
    }
   ],
   "source": [
    "from vpython import *\n",
    "scene = canvas()"
   ]
  },
  {
   "cell_type": "markdown",
   "id": "9de9bff7",
   "metadata": {},
   "source": [
    "# Making the Ball Bounce around a Box"
   ]
  },
  {
   "cell_type": "code",
   "execution_count": 2,
   "id": "fb59357f",
   "metadata": {},
   "outputs": [
    {
     "data": {
      "application/javascript": [
       "if (typeof Jupyter !== \"undefined\") {require.undef(\"nbextensions/vpython_libraries/glow.min\");}else{element.textContent = ' ';}"
      ],
      "text/plain": [
       "<IPython.core.display.Javascript object>"
      ]
     },
     "metadata": {},
     "output_type": "display_data"
    },
    {
     "data": {
      "application/javascript": [
       "if (typeof Jupyter !== \"undefined\") {require.undef(\"nbextensions/vpython_libraries/glowcomm\");}else{element.textContent = ' ';}"
      ],
      "text/plain": [
       "<IPython.core.display.Javascript object>"
      ]
     },
     "metadata": {},
     "output_type": "display_data"
    },
    {
     "data": {
      "application/javascript": [
       "if (typeof Jupyter !== \"undefined\") {require.undef(\"nbextensions/vpython_libraries/jquery-ui.custom.min\");}else{element.textContent = ' ';}"
      ],
      "text/plain": [
       "<IPython.core.display.Javascript object>"
      ]
     },
     "metadata": {},
     "output_type": "display_data"
    },
    {
     "data": {
      "application/javascript": [
       "if (typeof Jupyter !== \"undefined\") {require([\"nbextensions/vpython_libraries/glow.min\"], function(){console.log(\"GLOW LOADED\");});}else{element.textContent = ' ';}"
      ],
      "text/plain": [
       "<IPython.core.display.Javascript object>"
      ]
     },
     "metadata": {},
     "output_type": "display_data"
    },
    {
     "data": {
      "application/javascript": [
       "if (typeof Jupyter !== \"undefined\") {require([\"nbextensions/vpython_libraries/glowcomm\"], function(){console.log(\"GLOWCOMM LOADED\");});}else{element.textContent = ' ';}"
      ],
      "text/plain": [
       "<IPython.core.display.Javascript object>"
      ]
     },
     "metadata": {},
     "output_type": "display_data"
    },
    {
     "data": {
      "application/javascript": [
       "if (typeof Jupyter !== \"undefined\") {require([\"nbextensions/vpython_libraries/jquery-ui.custom.min\"], function(){console.log(\"JQUERY LOADED\");});}else{element.textContent = ' ';}"
      ],
      "text/plain": [
       "<IPython.core.display.Javascript object>"
      ]
     },
     "metadata": {},
     "output_type": "display_data"
    }
   ],
   "source": [
    "#initial object creation, make a ball with a sphere object and an empty box with thin boxes as walls\n",
    "ball = sphere(pos=vector(-5,0,0), radius=0.5, color=color.cyan, make_trail=True)\n",
    "wallR = box(pos=vector(6,0,0), size=vector(0.2,12,12), color=color.green)\n",
    "wallL = box(pos=vector(-6,0,0), size = vector(0.2,12,12), color = color.green)\n",
    "wallT = box(pos=vector(0,6,0), size = vector(12,0.2,12), color = color.blue)\n",
    "wallB = box(pos=vector(0,-6,0), size = vector(12,0.2,12), color = color.blue)\n",
    "wallFar = box(pos=vector(0,0,-6), size = vector(12,12,0.2), color = color.red)\n",
    "#clear front wall is actual wall with opacity low enough to see inside\n",
    "wallClose = box(pos=vector(0,0,6), size = vector(12,12,0.2), color = color.red, opacity =0.1)\n",
    "\n",
    "#ball initial velocity\n",
    "ball.velocity = vector(25,5,15)\n",
    "\n",
    "#velocity tracking arrow\n",
    "vscale = 0.1\n",
    "varr = arrow(pos=ball.pos, axis=vscale*ball.velocity, color = color.yellow)\n",
    "\n",
    "#timescale\n",
    "deltat = 0.005\n",
    "t = 0\n",
    "\n",
    "#loop for simulation of ball bouncing around box\n",
    "scene.austoscale = False\n",
    "while t < 10:\n",
    "    rate(100)\n",
    "    #update ball position based on current velocity\n",
    "    ball.pos = ball.pos+ball.velocity*deltat\n",
    "    \n",
    "    #change ball velocity if it hits a wall\n",
    "    #x for left and right, y for up and down, z for in and out\n",
    "    if ball.pos.x > wallR.pos.x:\n",
    "        ball.velocity.x = -ball.velocity.x\n",
    "    elif ball.pos.x < wallL.pos.x:\n",
    "        ball.velocity.x = -ball.velocity.x\n",
    "    \n",
    "    if ball.pos.y > wallT.pos.y:\n",
    "        ball.velocity.y = -ball.velocity.y\n",
    "    elif ball.pos.y < wallB.pos.y:\n",
    "        ball.velocity.y = -ball.velocity.y\n",
    "        \n",
    "    if ball.pos.z > wallClose.pos.z:\n",
    "        ball.velocity.z = -ball.velocity.z\n",
    "    elif ball.pos.z < wallFar.pos.z:\n",
    "        ball.velocity.z = -ball.velocity.z\n",
    "    \n",
    "    #update velocity tracking arrow position and axis\n",
    "    varr.pos = ball.pos\n",
    "    varr.axis = ball.velocity*vscale\n",
    "    \n",
    "    #iterate time\n",
    "    t = t + deltat\n",
    "    \n",
    "    "
   ]
  },
  {
   "cell_type": "markdown",
   "id": "d3902ee4",
   "metadata": {},
   "source": [
    "# Goals\n",
    "### My goals for this semester are to become confident and proficient in the creation of simulations. I got into computer engineering and coding because I was interested in how video games worked, and this course seems to be a great onramp into creating an engine for a video game, whether using the real physics like in this courses projects, or entirely different sets of parameters. I expect to be challenged along the way as the different projects become more complicated. I look forward to getting out of my comfort zone, learning a language I haven't used much, and that satisfying feeling of completing a complicated puzzle of a project every few weeks."
   ]
  },
  {
   "cell_type": "code",
   "execution_count": null,
   "id": "b566f7c8",
   "metadata": {},
   "outputs": [],
   "source": []
  }
 ],
 "metadata": {
  "kernelspec": {
   "display_name": "Python 3 (ipykernel)",
   "language": "python",
   "name": "python3"
  },
  "language_info": {
   "codemirror_mode": {
    "name": "ipython",
    "version": 3
   },
   "file_extension": ".py",
   "mimetype": "text/x-python",
   "name": "python",
   "nbconvert_exporter": "python",
   "pygments_lexer": "ipython3",
   "version": "3.8.15"
  }
 },
 "nbformat": 4,
 "nbformat_minor": 5
}
