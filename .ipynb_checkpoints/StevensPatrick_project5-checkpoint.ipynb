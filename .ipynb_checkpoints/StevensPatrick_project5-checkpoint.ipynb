{
 "cells": [
  {
   "cell_type": "markdown",
   "id": "46faf91a",
   "metadata": {},
   "source": [
    "# Logic Networks"
   ]
  },
  {
   "cell_type": "code",
   "execution_count": 44,
   "id": "0c3306ff",
   "metadata": {},
   "outputs": [],
   "source": [
    "#imports\n",
    "from vpython import *\n",
    "import numpy as np\n",
    "import math\n",
    "# importing matplotlib module\n",
    "from matplotlib import pyplot as plt"
   ]
  },
  {
   "cell_type": "code",
   "execution_count": 45,
   "id": "816865ed",
   "metadata": {},
   "outputs": [],
   "source": [
    "#create generic gate class\n",
    "class TwoGate:\n",
    "    def __init__(self, a, b):\n",
    "        self.a = a\n",
    "        self.b = b\n",
    "        self.out = -1\n",
    "    \n",
    "    def readOut(self):\n",
    "        print(\"Output of this gate (a,b,out): \")\n",
    "        print(self.a)\n",
    "        print(self.b)\n",
    "        print(self.out)\n",
    "        \n",
    "#\n",
    "#create NAND subclass\n",
    "class NandTwo(TwoGate):\n",
    "    def __init__(self,a,b):\n",
    "        super().__init__(a,b)\n",
    "    \n",
    "    def doNand(self):\n",
    "        if self.a == 1 and self.b == 1:\n",
    "            self.out = 0\n",
    "        else:\n",
    "            self.out = 1\n",
    "\n",
    "#\n",
    "#create NOR subclass\n",
    "class NorTwo(TwoGate):\n",
    "    def __init__(self,a,b):\n",
    "        super().__init__(a,b)\n",
    "        \n",
    "    def doNor(self):\n",
    "        if self.a == 0 and self.b == 0:\n",
    "            self.out = 1\n",
    "        else:\n",
    "            self.out = 0\n",
    "\n",
    "#\n",
    "#create net class for connections\n",
    "class Net():\n",
    "    def __init__(self,con1,con2,con3):\n",
    "        self.con1 = con1\n",
    "        self.con2 = con2\n",
    "        self.con3 = con3"
   ]
  },
  {
   "cell_type": "code",
   "execution_count": 46,
   "id": "7cc9accc",
   "metadata": {},
   "outputs": [
    {
     "name": "stdout",
     "output_type": "stream",
     "text": [
      "Output of this gate (a,b,out): \n",
      "0\n",
      "0\n",
      "1\n",
      "Output of this gate (a,b,out): \n",
      "0\n",
      "1\n",
      "1\n",
      "Output of this gate (a,b,out): \n",
      "1\n",
      "0\n",
      "1\n",
      "Output of this gate (a,b,out): \n",
      "1\n",
      "1\n",
      "0\n"
     ]
    }
   ],
   "source": [
    "#test those classes\n",
    "\n",
    "testNand0 = NandTwo(0,0)\n",
    "testNand0.doNand()\n",
    "testNand0.readOut()\n",
    "\n",
    "testNand1 = NandTwo(0,1)\n",
    "testNand1.doNand()\n",
    "testNand1.readOut()\n",
    "\n",
    "testNand2 = NandTwo(1,0)\n",
    "testNand2.doNand()\n",
    "testNand2.readOut()\n",
    "\n",
    "testNand3 = NandTwo(1,1)\n",
    "testNand3.doNand()\n",
    "testNand3.readOut()"
   ]
  },
  {
   "cell_type": "code",
   "execution_count": null,
   "id": "3278af60",
   "metadata": {},
   "outputs": [],
   "source": [
    "#create events class, priority queue\n",
    "#includes net location, value, time of event"
   ]
  },
  {
   "cell_type": "code",
   "execution_count": null,
   "id": "c9d91167",
   "metadata": {},
   "outputs": [],
   "source": [
    "#system test of combinational logic\n",
    "# -at least 3 gates of at least 2 inputs\n",
    "# -at least 2 levels"
   ]
  },
  {
   "cell_type": "code",
   "execution_count": null,
   "id": "bdb329f5",
   "metadata": {},
   "outputs": [],
   "source": [
    "#NAND gate D-latch, sequential logic"
   ]
  }
 ],
 "metadata": {
  "kernelspec": {
   "display_name": "Python 3 (ipykernel)",
   "language": "python",
   "name": "python3"
  },
  "language_info": {
   "codemirror_mode": {
    "name": "ipython",
    "version": 3
   },
   "file_extension": ".py",
   "mimetype": "text/x-python",
   "name": "python",
   "nbconvert_exporter": "python",
   "pygments_lexer": "ipython3",
   "version": "3.8.15"
  }
 },
 "nbformat": 4,
 "nbformat_minor": 5
}
