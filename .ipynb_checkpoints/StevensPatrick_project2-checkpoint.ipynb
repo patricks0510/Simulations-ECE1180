{
 "cells": [
  {
   "cell_type": "markdown",
   "id": "fdadf500",
   "metadata": {},
   "source": [
    "# Assumptions\n",
    "1 VPython spacial unit = 1000 km = 1e3 km = 1 Mm\n",
    "With this scaling it allows for the earth and orbits to be visible on screen while still being usable as values\n",
    "Mass is assmued to be in kilograms for at least the Newton's Cannonball Simulation"
   ]
  },
  {
   "cell_type": "markdown",
   "id": "04a8ab45",
   "metadata": {},
   "source": [
    "## Newton's Cannonball:\n",
    "4 Canonballs with the same mass (5.4 kg) sent out with different velocities. The first with 7.90 km/s, the second with 7.91 km/s, the third with 11.0 km/s, and the last with 11.3 km/s. These differnt velocities represent just under orbital velocity, just over orbital velocity, just under exit velocity, and exceeding exit velocity, respectively, for each mass. "
   ]
  },
  {
   "cell_type": "code",
   "execution_count": 1,
   "id": "f168769f",
   "metadata": {},
   "outputs": [
    {
     "data": {
      "text/html": [
       "<div id=\"glowscript\" class=\"glowscript\"></div>"
      ],
      "text/plain": [
       "<IPython.core.display.HTML object>"
      ]
     },
     "metadata": {},
     "output_type": "display_data"
    },
    {
     "data": {
      "application/javascript": [
       "if (typeof Jupyter !== \"undefined\") { window.__context = { glowscript_container: $(\"#glowscript\").removeAttr(\"id\")};}else{ element.textContent = ' ';}"
      ],
      "text/plain": [
       "<IPython.core.display.Javascript object>"
      ]
     },
     "metadata": {},
     "output_type": "display_data"
    },
    {
     "data": {
      "text/html": [
       "<div id=\"glowscript\" class=\"glowscript\"></div>"
      ],
      "text/plain": [
       "<IPython.core.display.HTML object>"
      ]
     },
     "metadata": {},
     "output_type": "display_data"
    },
    {
     "data": {
      "application/javascript": [
       "if (typeof Jupyter !== \"undefined\") { window.__context = { glowscript_container: $(\"#glowscript\").removeAttr(\"id\")};}else{ element.textContent = ' ';}"
      ],
      "text/plain": [
       "<IPython.core.display.Javascript object>"
      ]
     },
     "metadata": {},
     "output_type": "display_data"
    }
   ],
   "source": [
    "from vpython import *\n",
    "import numpy as np\n",
    "scene=canvas();\n",
    "autoscale = False"
   ]
  },
  {
   "cell_type": "code",
   "execution_count": 2,
   "id": "7fa7e6a5",
   "metadata": {},
   "outputs": [],
   "source": [
    "#function used for calculating distance between objects\n",
    "#mass1 and mass2 should have vector position\n",
    "def distance3D(mass1, mass2):\n",
    "    return mass1.pos - mass2.pos\n",
    "#returns the magnitude of a vector input\n",
    "def magnitude(vec):\n",
    "    mag = abs((vec.x)**2 + (vec.y)**2 + (vec.z)**2)\n",
    "    return sqrt(mag)\n",
    "#updates the velocity and position of an object\n",
    "def updateVeloPos(obj):\n",
    "    #update positions and velocities\n",
    "    obj.velocity = obj.velocity + obj.accel*deltaT\n",
    "    obj.pos = obj.pos + obj.velocity*deltaT\n",
    "\n",
    "#updates the acceleration of an object\n",
    "def updateAccel(obj):\n",
    "    obj.accel = obj.gravDir*obj.force/obj.mass\n",
    "\n",
    "#updates the direction of gravity for an object\n",
    "def updateGravDir(obj):\n",
    "    return obj.dist/magnitude(obj.dist)\n",
    "\n",
    "#updates the forces acting on an object\n",
    "def updateForce(obj,center):\n",
    "    return (obj.mass * G * center.mass / magnitude(obj.dist)**2)*1e6"
   ]
  },
  {
   "cell_type": "code",
   "execution_count": 3,
   "id": "87aa6418",
   "metadata": {},
   "outputs": [
    {
     "data": {
      "application/javascript": [
       "if (typeof Jupyter !== \"undefined\") {require.undef(\"nbextensions/vpython_libraries/glow.min\");}else{element.textContent = ' ';}"
      ],
      "text/plain": [
       "<IPython.core.display.Javascript object>"
      ]
     },
     "metadata": {},
     "output_type": "display_data"
    },
    {
     "data": {
      "application/javascript": [
       "if (typeof Jupyter !== \"undefined\") {require.undef(\"nbextensions/vpython_libraries/glowcomm\");}else{element.textContent = ' ';}"
      ],
      "text/plain": [
       "<IPython.core.display.Javascript object>"
      ]
     },
     "metadata": {},
     "output_type": "display_data"
    },
    {
     "data": {
      "application/javascript": [
       "if (typeof Jupyter !== \"undefined\") {require.undef(\"nbextensions/vpython_libraries/jquery-ui.custom.min\");}else{element.textContent = ' ';}"
      ],
      "text/plain": [
       "<IPython.core.display.Javascript object>"
      ]
     },
     "metadata": {},
     "output_type": "display_data"
    },
    {
     "data": {
      "application/javascript": [
       "if (typeof Jupyter !== \"undefined\") {require([\"nbextensions/vpython_libraries/glow.min\"], function(){console.log(\"GLOW LOADED\");});}else{element.textContent = ' ';}"
      ],
      "text/plain": [
       "<IPython.core.display.Javascript object>"
      ]
     },
     "metadata": {},
     "output_type": "display_data"
    },
    {
     "data": {
      "application/javascript": [
       "if (typeof Jupyter !== \"undefined\") {require([\"nbextensions/vpython_libraries/glowcomm\"], function(){console.log(\"GLOWCOMM LOADED\");});}else{element.textContent = ' ';}"
      ],
      "text/plain": [
       "<IPython.core.display.Javascript object>"
      ]
     },
     "metadata": {},
     "output_type": "display_data"
    },
    {
     "data": {
      "application/javascript": [
       "if (typeof Jupyter !== \"undefined\") {require([\"nbextensions/vpython_libraries/jquery-ui.custom.min\"], function(){console.log(\"JQUERY LOADED\");});}else{element.textContent = ' ';}"
      ],
      "text/plain": [
       "<IPython.core.display.Javascript object>"
      ]
     },
     "metadata": {},
     "output_type": "display_data"
    },
    {
     "ename": "KeyboardInterrupt",
     "evalue": "",
     "output_type": "error",
     "traceback": [
      "\u001b[1;31m---------------------------------------------------------------------------\u001b[0m",
      "\u001b[1;31mKeyboardInterrupt\u001b[0m                         Traceback (most recent call last)",
      "Cell \u001b[1;32mIn[3], line 120\u001b[0m\n\u001b[0;32m    117\u001b[0m     cBall4\u001b[38;5;241m.\u001b[39mvelocity \u001b[38;5;241m=\u001b[39m (\u001b[38;5;241m0\u001b[39m,\u001b[38;5;241m0\u001b[39m,\u001b[38;5;241m0\u001b[39m)\n\u001b[0;32m    119\u001b[0m \u001b[38;5;66;03m#update timestep\u001b[39;00m\n\u001b[1;32m--> 120\u001b[0m t \u001b[38;5;241m=\u001b[39m \u001b[43mt\u001b[49m\u001b[43m \u001b[49m\u001b[38;5;241;43m+\u001b[39;49m\u001b[43m \u001b[49m\u001b[43mdeltaT\u001b[49m\n\u001b[0;32m    121\u001b[0m \u001b[38;5;66;03m#update the caption with the current elapsed time\u001b[39;00m\n\u001b[0;32m    122\u001b[0m t_m,t_s \u001b[38;5;241m=\u001b[39m \u001b[38;5;28mdivmod\u001b[39m(t,\u001b[38;5;241m60\u001b[39m)\n",
      "\u001b[1;31mKeyboardInterrupt\u001b[0m: "
     ]
    }
   ],
   "source": [
    "#CONSTANTS DEFININTION\n",
    "# deltaT = timestep [s]\n",
    "# freq = frequency [1/s] - used for rate(freq) to ensure timestep is realtime\n",
    "# t = starting time [s]\n",
    "# endtime = time to end the simulation [s]\n",
    "# deltaV = change in velocity due to gravity\n",
    "# G = universal gravitational constant [Mm^3 *kg^-1 *s^-2]\n",
    "deltaT = 0.001\n",
    "freq = 1/0.001\n",
    "t = 0\n",
    "endtime = 300\n",
    "deltaV = 0\n",
    "G = 6.67408e-29\n",
    "\n",
    "#create a timer to display with the simulation\n",
    "t_m = 0\n",
    "t_s = t\n",
    "\n",
    "\n",
    "#create the earth as a sphere object, a pale blue dot with a radius scaled down by a factor of 1000\n",
    "#radius = 6,378.1370 km = 6.378 VPython units\n",
    "earth = sphere(pos=vector(0,0,0),radius=6.378, color = color.blue)\n",
    "#create the cannon for the ball do escape from\n",
    "cannon = box(pos=vector(0,7,0), length = 1.5, height = 1, width = 1)\n",
    "#cannonball with scaled up radius for visual representation\n",
    "cBall = sphere(pos= vector(.15,7.05,0), radius = .5,color = color.green, make_trail = True)\n",
    "cBall2 = sphere(pos= vector(.15,7.05,0), radius = .5,color = color.red, make_trail = True)\n",
    "cBall3 = sphere(pos= vector(.15,7.05,0), radius = .5,color = color.yellow, make_trail = True)\n",
    "cBall4 = sphere(pos= vector(.15,7.05,0), radius = .5,color = color.white, make_trail = True)\n",
    "\n",
    "#define the mass of the earth, the mass of the cannonballs and the initial conditions of the cannonballs\n",
    "earth.mass = 6.927e24 #[kg]\n",
    "\n",
    "cBall.mass = 5.4 #[kg]\n",
    "cBall.velocity = vector(7.91,0,0) #[km/s]\n",
    "cBall2.velocity = vector(7.90,0,0) #[km/s]\n",
    "cBall3.velocity = vector(11.0,0,0) #[km/s]\n",
    "cBall4.velocity = vector(11.3,0,0) #[km/s]\n",
    "\n",
    "cBall.accel = vector(0,0,0) #[km/s^2]\n",
    "cBall2.accel = vector(0,0,0) #[km/s^2]\n",
    "cBall3.accel = vector(0,0,0) #[km/s^2]\n",
    "cBall4.accel = vector(0,0,0) #[km/s^2]\n",
    "\n",
    "cBall.dist = distance3D(earth,cBall)\n",
    "cBall.gravDir = vector(0,0,0)\n",
    "cBall.force = 0\n",
    "cBall.accel = 0\n",
    "\n",
    "cBall2.mass = 5.4 #[kg]\n",
    "cBall2.dist = distance3D(earth,cBall)\n",
    "cBall2.gravDir = vector(0,0,0)\n",
    "cBall2.force = 0\n",
    "cBall2.accel = 0\n",
    "\n",
    "cBall3.mass = 5.4 #[kg]\n",
    "cBall3.dist = distance3D(earth,cBall)\n",
    "cBall3.gravDir = vector(0,0,0)\n",
    "cBall3.force = 0\n",
    "cBall3.accel = 0\n",
    "\n",
    "cBall4.mass = 5.4 #[kg]\n",
    "cBall4.dist = distance3D(earth,cBall)\n",
    "cBall4.gravDir = vector(0,0,0)\n",
    "cBall4.force = 0\n",
    "cBall4.accel = 0\n",
    "\n",
    "#simulation loop\n",
    "while t < endtime:\n",
    "    #halt computation for 1/freq seconds, freq=100\n",
    "    rate(freq)\n",
    "    #get the value of the distance between the ball and the earth, vector value\n",
    "    #values in Mm\n",
    "    #massDist = distance3D(earth,cBall)\n",
    "    #get the unit vector in the direction of the gravitational force\n",
    "    #gravDir = massDist/magnitude(massDist)\n",
    "    #calculate force on the ball [kg * Mm / s^2]\n",
    "    #forceB = (cBall.mass * G * earth.mass / magnitude(massDist)**2)*1e6\n",
    "    \n",
    "    #calculate acceeration on the ball [Mm * (kg*Mm/s^2) / kg] = [Mm^2 / s^2]\n",
    "    #accelB = gravDir*forceB/cBall.mass\n",
    "    if(magnitude(cBall.dist)> 6.378):\n",
    "        cBall.dist = distance3D(earth,cBall)\n",
    "        cBall.gravDir = updateGravDir(cBall)\n",
    "        cBall.force = updateForce(cBall,earth)\n",
    "        updateAccel(cBall)\n",
    "        updateVeloPos(cBall)\n",
    "    else:\n",
    "        cBall.velocity = (0,0,0)\n",
    "    \n",
    "    \n",
    "    if(magnitude(cBall2.dist)> 6.378):\n",
    "        cBall2.dist = distance3D(earth,cBall2)\n",
    "        cBall2.gravDir = updateGravDir(cBall2)\n",
    "        cBall2.force = updateForce(cBall2,earth)\n",
    "        updateAccel(cBall2)\n",
    "        updateVeloPos(cBall2)\n",
    "    else:\n",
    "        cBall2.velocity = (0,0,0)\n",
    "\n",
    "    if(magnitude(cBall3.dist)> 6.378):\n",
    "        cBall3.dist = distance3D(earth,cBall3)\n",
    "        cBall3.gravDir = updateGravDir(cBall3)\n",
    "        cBall3.force = updateForce(cBall3,earth)\n",
    "        updateAccel(cBall3)\n",
    "        updateVeloPos(cBall3)\n",
    "    else:\n",
    "        cBall3.velocity = (0,0,0)\n",
    "        \n",
    "    if(magnitude(cBall4.dist)> 6.378):\n",
    "        cBall4.dist = distance3D(earth,cBall4)\n",
    "        cBall4.gravDir = updateGravDir(cBall4)\n",
    "        cBall4.force = updateForce(cBall4,earth)\n",
    "        updateAccel(cBall4)\n",
    "        updateVeloPos(cBall4)\n",
    "    else:\n",
    "        cBall4.velocity = (0,0,0)\n",
    "        \n",
    "    #update timestep\n",
    "    t = t + deltaT\n",
    "    #update the caption with the current elapsed time\n",
    "    t_m,t_s = divmod(t,60)\n",
    "    scene.caption = \"Time Elapsed: {}:{:.3f}\".format(int(t_m),round(t_s,3))\n",
    "    #################################################################"
   ]
  },
  {
   "cell_type": "markdown",
   "id": "1bc07198",
   "metadata": {},
   "source": [
    "## Validation\n",
    "According to https://www.omnicalculator.com/physics/escape-velocity, the first orbial velocity is 7.91 km/s. This means that any cannonball with a velocity under 7.91 km/s will fall back to earths surface eventually and if it is traveling at a speed greater than 7.91 km/s but less than 11.186 km/s (escape velocity), the ball will orbit the earth. cBall, colored in green, has an initial velocity of 7.91 km/s and orbits continuously. cBall2, colored in red, has an initial velocity of 7.90 km/s and eventually falls back to earth. cBall3, colored in yellow, has a velocity of 11 km/s, just under escape velocity. cBall4, colored in white, has a velocity of 11.3 km/s and will not orbit."
   ]
  },
  {
   "cell_type": "markdown",
   "id": "77351c0c",
   "metadata": {},
   "source": [
    "# Simulation 2: Planetary Orbits\n",
    "Assumptions: \n",
    "Masses of planetary objects from here: https://www.statista.com/statistics/1010921/mass-planets-solar-system/\n",
    "\n",
    "Mass of sun from here: https://nssdc.gsfc.nasa.gov/planetary/factsheet/sunfact.html\n",
    "\n",
    "Distance between objects visualized smaller by a factor of 10^5, sun radius reduced by factor of 10^4, planet radii reduced by a factor of 10^2.\n",
    "\n",
    "Planets are far enough apart and close enough in mass that their gravities on one another do not effect the calculation for total gravitational force.\n",
    "\n",
    "Each time step is 500 seconds running at a rate of 500 time steps per loop. I did this to get ~3 days per loop to allow for analyzing the orbits in an obsevable time rather than waiting for a whole year to see if it lines up with an actual year."
   ]
  },
  {
   "cell_type": "code",
   "execution_count": null,
   "id": "c0ca427c",
   "metadata": {
    "scrolled": true
   },
   "outputs": [],
   "source": [
    "from vpython import *\n",
    "import numpy as np\n",
    "scene=canvas();\n",
    "autoscale = True"
   ]
  },
  {
   "cell_type": "code",
   "execution_count": null,
   "id": "5e4343ca",
   "metadata": {},
   "outputs": [],
   "source": [
    "#function used for calculating distance between objects\n",
    "#mass1 and mass2 should have vector position\n",
    "def distance3D(mass1, mass2):\n",
    "    return sqrt( \n",
    "        (mass1.pos.x - mass2.pos.x)**2 +\n",
    "        (mass1.pos.y - mass2.pos.y)**2 +\n",
    "        (mass1.pos.z - mass2.pos.z)**2\n",
    "    )\n",
    "\n",
    "#returns the magnitude of a vector input\n",
    "def magnitude(vec):\n",
    "    mag = abs((vec.x)**2 + (vec.y)**2 + (vec.z)**2)\n",
    "    return sqrt(mag)\n",
    "#updates the velocity and position of an object\n",
    "def updateVeloPos(obj):\n",
    "    #update positions and velocities\n",
    "    obj.velocity = obj.velocity + obj.accel*deltaT\n",
    "    obj.pos = obj.pos + obj.velocity*deltaT\n",
    "\n",
    "#updates the acceleration of an object\n",
    "def updateAccel(obj):\n",
    "    obj.accel = obj.gravDir*obj.force/obj.mass\n",
    "\n",
    "#updates the direction of gravity for an object\n",
    "def updateGravDir(obj):\n",
    "    obj2sun = sun.pos - obj.pos\n",
    "    \n",
    "    mag = distance3D(sun, obj)\n",
    "    \n",
    "    if mag != 0:\n",
    "        unitv = obj2sun / mag\n",
    "    else:\n",
    "        unitv = vector(0, 0, 0)\n",
    "    \n",
    "    return unitv\n",
    "\n",
    "#updates the forces acting on an object\n",
    "def updateForceScaled(obj, center):\n",
    "    return (obj.mass * G * center.mass / (distance3D(sun, obj))**2)"
   ]
  },
  {
   "cell_type": "code",
   "execution_count": null,
   "id": "59f4aab9",
   "metadata": {},
   "outputs": [],
   "source": [
    "#CONSTANTS DEFININTION\n",
    "# deltaT = timestep [s]\n",
    "# freq = frequency [1/s] - used for rate(freq) to ensure timestep is realtime\n",
    "# t = starting time [s]\n",
    "# endtime = time to end the simulation [s]\n",
    "# deltaV = change in velocity due to gravity\n",
    "# G = universal gravitational constant [Mm^3 *kg^-1 *s^-2]\n",
    "deltaT = 500\n",
    "freq = 1/deltaT\n",
    "t = 0\n",
    "endtime = 3000000\n",
    "deltaV = 0\n",
    "G = 6.67408e-11\n",
    "\n",
    "#create a timer to display with the simulation\n",
    "t_m = 0\n",
    "t_s = t\n",
    "\n",
    "#create the sun as a sphere object, yellow with a radius scaled down by a factor of 10000 for visualization purposes only\n",
    "#radius = 695 700 km = 6.957e5, represented by\n",
    "sun = sphere(pos=vector(0,0,0),radius=695700*1000*20,color = color.yellow)\n",
    "#mass of sun\n",
    "sun.mass = 1988500e24\n",
    "\n",
    "#create mercury as a sphere object, gray with a radius scaled down by a factor of 100 for visualization purposes only\n",
    "#radius = 2439.7 km\n",
    "#distance from sun = 69.307e6 km = 6.9307e7\n",
    "mercury = sphere(pos=vector(-2.738452297362185E+10, -6.383199928613157E+10, -2.704514647897214E+09),radius=24397*200000,color = color.gray(0.5), make_trail = True)\n",
    "#mass of mercury\n",
    "mercury.mass = 3.30e23\n",
    "mercury.sunDist = distance3D(mercury,sun)\n",
    "mercury.velocity = vector(3.496898494193542E+04, -1.681987668314116E+04, -4.582045787115797E+03)\n",
    "mercury.gravdir = vector(0,0,0)\n",
    "mercury.force = 0\n",
    "mercury.accel = 0\n",
    "\n",
    "#create venus as a sphere object, orange with a radius scaled down by a factor of 100 for visualization purposes only\n",
    "#radius = 6051.8 km\n",
    "#distance from sun = 108.41 million km = 108.41e6 km = 1.0841e8\n",
    "venus = sphere(pos=vector(9.624367861588503E+10,  4.959937420586077E+10, -4.872533973846177E+09),radius = 60518*20000*5, color = color.orange, make_trail = True)\n",
    "#mass of venus\n",
    "venus.mass = 4869e21\n",
    "venus.sunDist = distance3D(venus,sun)\n",
    "venus.velocity = vector(-1.615481995772101E+04,  3.097915748965497E+04,  1.357488723306876E+03)\n",
    "venus.gravdir = vector(0,0,0)\n",
    "venus.force = 0\n",
    "venus.accel = 0\n",
    "\n",
    "#create the earth as a sphere object, a pale blue dot with a radius scaled down by a factor of 100\n",
    "#radius = 6,378.1370 km = 6.378 VPython units\n",
    "#distance scaled by a factor of 1e7\n",
    "#distance from sun = 1 AU = 1.496e+8 km\n",
    "# = 1.496e+3 in VPython Units\n",
    "earth = sphere(pos=vector(-1.174111809986976E+11,8.953482835014796E+10,-4.045517823301256E+06),radius=6378*2000000, color = color.blue, make_trail = True)\n",
    "#mass of earth\n",
    "earth.mass = 5974e21\n",
    "earth.sunDist = distance3D(earth,sun)\n",
    "earth.velocity = vector(-1.855335429973671e4,-2.379124838231111e4,2.414260145219060)\n",
    "earth.gravdir = vector(0,0,0)\n",
    "earth.force = 0\n",
    "earth.accel = 0\n",
    "\n",
    "\n",
    "#creat mars as a shere object, red with a radius scaled down by a factor of 100\n",
    "#radius = 3389.5 km\n",
    "#distance = 242.22 million km = 242.22e6 km = 2.4222e8\n",
    "mars = sphere(pos=vector(-7.419212793691006E+10,  2.291507898984517E+11,  6.622472521990061E+09),radius = 33895*200000, color = color.red, make_trail = True)\n",
    "#mass of mars\n",
    "mars.mass = 642e21\n",
    "mars.sunDist = distance3D(mars,sun)\n",
    "mars.velocity = vector(-2.213389804170640E+04, -5.404732335871655E+03,  4.296577928861558E+2)\n",
    "mars.gravdir = vector(0,0,0)\n",
    "mars.force = 0\n",
    "mars.accel = 0"
   ]
  },
  {
   "cell_type": "code",
   "execution_count": null,
   "id": "8f92e64d",
   "metadata": {},
   "outputs": [],
   "source": [
    "while True:\n",
    "    rate(500)\n",
    "    \n",
    "    mercury.sunDist = distance3D(sun,mercury)\n",
    "    mercury.gravDir = updateGravDir(mercury)\n",
    "    mercury.force = updateForceScaled(mercury,sun)\n",
    "    updateAccel(mercury)\n",
    "    updateVeloPos(mercury)\n",
    "    \n",
    "    venus.sunDist = distance3D(sun,venus)\n",
    "    venus.gravDir = updateGravDir(venus)\n",
    "    venus.force = updateForceScaled(venus,sun)\n",
    "    updateAccel(venus)\n",
    "    updateVeloPos(venus)\n",
    "    \n",
    "    earth.sunDist = distance3D(sun,earth)\n",
    "    earth.gravDir = updateGravDir(earth)\n",
    "    earth.force = updateForceScaled(earth,sun)\n",
    "    updateAccel(earth)\n",
    "    updateVeloPos(earth)\n",
    "    \n",
    "    mars.sunDist = distance3D(sun,mars)\n",
    "    mars.gravDir = updateGravDir(mars)\n",
    "    mars.force = updateForceScaled(mars,sun)\n",
    "    updateAccel(mars)\n",
    "    updateVeloPos(mars)\n",
    "    \n",
    "    #update timestep\n",
    "    t = t + deltaT\n",
    "    #update the caption with the current elapsed time\n",
    "    t_asdays = t/86400\n",
    "    t_y,t_d = divmod(t_asdays,365)\n",
    "    scene.caption = \"Time Elapsed: {}:{:.3f}\".format(int(t_y),round(t_d,3))\n",
    "    #################################################################"
   ]
  },
  {
   "cell_type": "markdown",
   "id": "c4c8625b",
   "metadata": {},
   "source": [
    "# Evaluation\n",
    "\n",
    "With a timestep of 500, the positions are calculating in real time, but with a rate of 500 on the simulation loop, that 500 seconds is happening 500 times a second. This means that each loop is considered 2.894 days. The time elapsed as the scene caption is in the format of years:days. Mercury completes an orbit in ~89, Venus in ~225 days, Earth in ~1 year or 365 days, and Mars in ~1 year and 322 days, which is exactly what their respective orbital years are according to NASA."
   ]
  },
  {
   "cell_type": "code",
   "execution_count": null,
   "id": "5e06c7ed",
   "metadata": {},
   "outputs": [],
   "source": []
  }
 ],
 "metadata": {
  "kernelspec": {
   "display_name": "Python 3 (ipykernel)",
   "language": "python",
   "name": "python3"
  },
  "language_info": {
   "codemirror_mode": {
    "name": "ipython",
    "version": 3
   },
   "file_extension": ".py",
   "mimetype": "text/x-python",
   "name": "python",
   "nbconvert_exporter": "python",
   "pygments_lexer": "ipython3",
   "version": "3.8.15"
  }
 },
 "nbformat": 4,
 "nbformat_minor": 5
}
