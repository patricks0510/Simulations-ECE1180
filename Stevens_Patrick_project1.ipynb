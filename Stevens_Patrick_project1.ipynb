{
 "cells": [
  {
   "cell_type": "markdown",
   "id": "ba0e7ef6",
   "metadata": {},
   "source": [
    "# Key Assumptions Throughout\n",
    "1) The spacial dimensions of the simulation scene are in meters.\n",
    "2) Timestep and loop frequency are tied together implicitly with variable declarations, timestep is 5ms, frequency of rate is 200 updates/s."
   ]
  },
  {
   "cell_type": "markdown",
   "id": "748c85c9",
   "metadata": {},
   "source": [
    "# [1.a] Ball falling due to gravity\n",
    "Some assumptions: ball mass irrelevant due to no air resistance. The bottom of ball 10m above the ground. Acceleration due to gravity is -9.8m/s^s in the y direction.\n",
    "\n",
    "According to the equation for a falling ball (t = √{2x/a}) the ball should reach the ground 1.41s after the start of the simulation"
   ]
  },
  {
   "cell_type": "code",
   "execution_count": 20,
   "id": "136a31b8",
   "metadata": {},
   "outputs": [
    {
     "data": {
      "text/html": [
       "<div id=\"glowscript\" class=\"glowscript\"></div>"
      ],
      "text/plain": [
       "<IPython.core.display.HTML object>"
      ]
     },
     "metadata": {},
     "output_type": "display_data"
    },
    {
     "data": {
      "application/javascript": [
       "if (typeof Jupyter !== \"undefined\") { window.__context = { glowscript_container: $(\"#glowscript\").removeAttr(\"id\")};}else{ element.textContent = ' ';}"
      ],
      "text/plain": [
       "<IPython.core.display.Javascript object>"
      ]
     },
     "metadata": {},
     "output_type": "display_data"
    }
   ],
   "source": [
    "#imports\n",
    "from vpython import *\n",
    "\n",
    "#scene\n",
    "scene = canvas()"
   ]
  },
  {
   "cell_type": "code",
   "execution_count": 21,
   "id": "8719245d",
   "metadata": {
    "scrolled": true
   },
   "outputs": [],
   "source": [
    "#constants\n",
    "deltat = 0.005 #5ms timesteps = 200 timesteps/second\n",
    "freq = 1/deltat\n",
    "\n",
    "g=-9.8 #9.8m/s^2 in the -y direction\n",
    "\n",
    "#gets the time that the ball impacts the ground\n",
    "t = 0\n",
    "endtime = 100\n",
    "impact_t = 0\n",
    "\n",
    "#time in minutes and seconds for displaying\n",
    "t_m = 0\n",
    "t_s = t\n",
    "\n",
    "#object declarations\n",
    "floor = box(pos = vector(0,0,0),length=30,height=0.5,width=1, color = color.green)\n",
    "ball = sphere(pos = vector(0,10.5,0),radius=0.5,color = color.red)\n",
    "ball_path = attach_trail(ball)\n",
    "ball_path.color = color.orange\n",
    "ball.velocity = vector(0,0,0)\n",
    "\n",
    "while t<endtime:\n",
    "    #1/200 seconds of halt, ensures .005 timesteps\n",
    "    rate(freq)\n",
    "    \n",
    "    if((ball.pos.y-ball.radius) < (floor.pos.y + floor.size.y/2)):\n",
    "        impact_t = t\n",
    "        break\n",
    "    \n",
    "    #update positions and velocities\n",
    "    ball.velocity.y = ball.velocity.y + g*deltat\n",
    "    ball.pos = ball.pos + ball.velocity*deltat\n",
    "    t = t + deltat\n",
    "    \n",
    "    #caption for time elapsed\n",
    "    t_m,t_s = divmod(t,60)\n",
    "    scene.caption = \"Time Elapsed: {}:{:.3f}\".format(int(t_m),round(t_s,3))"
   ]
  },
  {
   "cell_type": "markdown",
   "id": "67db68c0",
   "metadata": {},
   "source": [
    "# Results\n",
    "The ball falls from 10 meters in the air under the effects of earth's gravity, 9.8m/s/s. According to the equation for a falling ball (t = √{2x/a}) the ball should reach the ground 1.41s after the start of the simulation. According to the time tracked on the bottom of the canvas, which stops when the ball has the same y position as the ground, the ball hit the ground at 1.410s, which is exactly what it should be. "
   ]
  },
  {
   "cell_type": "markdown",
   "id": "ced6bff9",
   "metadata": {},
   "source": [
    "# [1.b] Ball Bouncing\n",
    "Assumptions: No air resistance, perfectly elastic collsions with the ground"
   ]
  },
  {
   "cell_type": "code",
   "execution_count": 22,
   "id": "17b12953",
   "metadata": {
    "scrolled": true
   },
   "outputs": [
    {
     "data": {
      "text/html": [
       "<div id=\"glowscript\" class=\"glowscript\"></div>"
      ],
      "text/plain": [
       "<IPython.core.display.HTML object>"
      ]
     },
     "metadata": {},
     "output_type": "display_data"
    },
    {
     "data": {
      "application/javascript": [
       "if (typeof Jupyter !== \"undefined\") { window.__context = { glowscript_container: $(\"#glowscript\").removeAttr(\"id\")};}else{ element.textContent = ' ';}"
      ],
      "text/plain": [
       "<IPython.core.display.Javascript object>"
      ]
     },
     "metadata": {},
     "output_type": "display_data"
    }
   ],
   "source": [
    "from vpython import *\n",
    "scene = canvas()\n",
    "scene.autoscale = True"
   ]
  },
  {
   "cell_type": "code",
   "execution_count": 23,
   "id": "0d67d357",
   "metadata": {},
   "outputs": [],
   "source": [
    "#constants\n",
    "g=-9.8 #9.8 [m/s^2] in the -y direction\n",
    "\n",
    "#timing constants\n",
    "deltat = 0.005 #5ms timesteps = 200 timesteps/second [s]\n",
    "freq = 1/deltat #frequency for rate funciton [1/s\n",
    "\n",
    "\n",
    "#timing variables\n",
    "t = 0 #time starts at 0 [s]\n",
    "endtime = 30 #end time for simulation loop [s]\n",
    "impact_t = 0\n",
    "\n",
    "#time in minutes and seconds for displaying\n",
    "t_m = 0\n",
    "t_s = t\n",
    "\n",
    "#object declarations\n",
    "floor = box(pos = vector(0,0,0),length=30,height=0.5,width=1, color = color.green)\n",
    "ball = sphere(pos = vector(0,10.5,0),radius=0.5,color = color.red)\n",
    "ball_path = attach_trail(ball)\n",
    "ball_path.color = color.orange\n",
    "ball.velocity = vector(1,0,0)\n",
    "\n",
    "#simulation loop\n",
    "while(t<endtime):\n",
    "    rate(freq)\n",
    "    \n",
    "    #if the ball hits the ground logic\n",
    "    if((ball.pos.y-ball.radius) < (floor.pos.y + floor.size.y/2)):\n",
    "        ball.velocity.y = -1*ball.velocity.y\n",
    "    \n",
    "    #update positions and velocities\n",
    "    ball.velocity.y = ball.velocity.y + g*deltat\n",
    "    ball.pos = ball.pos + ball.velocity*deltat\n",
    "    t = t + deltat\n",
    "    \n",
    "    #update the caption with the current elapsed time\n",
    "    t_m,t_s = divmod(t,60)\n",
    "    scene.caption = \"Time Elapsed: {}:{:.3f}\".format(int(t_m),round(t_s,3))"
   ]
  },
  {
   "cell_type": "markdown",
   "id": "e28487b3",
   "metadata": {},
   "source": [
    "## Results\n",
    "With the ball moving horizontally, we can look at the peaks of the ball's trail in order to verify that the velocity is maintained and gravity has a constant effect on the ball's velocity. Overall the heights of the ball's bounces are the same, but there is a slight diminishing effect created by the sampling rate of 5ms time steps and rounding errors on floating point values in Python."
   ]
  },
  {
   "cell_type": "markdown",
   "id": "aab488dd",
   "metadata": {},
   "source": [
    "# [1.c] Shooting the Ball out of a cannon\n",
    "Assumptions: ball exits the \"cannon\" with a force driving it to have an initial velocity of (4,3,0). The collisions with the ground are perfectly elastic"
   ]
  },
  {
   "cell_type": "code",
   "execution_count": 24,
   "id": "5fd13c36",
   "metadata": {
    "scrolled": false
   },
   "outputs": [
    {
     "data": {
      "text/html": [
       "<div id=\"glowscript\" class=\"glowscript\"></div>"
      ],
      "text/plain": [
       "<IPython.core.display.HTML object>"
      ]
     },
     "metadata": {},
     "output_type": "display_data"
    },
    {
     "data": {
      "application/javascript": [
       "if (typeof Jupyter !== \"undefined\") { window.__context = { glowscript_container: $(\"#glowscript\").removeAttr(\"id\")};}else{ element.textContent = ' ';}"
      ],
      "text/plain": [
       "<IPython.core.display.Javascript object>"
      ]
     },
     "metadata": {},
     "output_type": "display_data"
    }
   ],
   "source": [
    "from vpython import *\n",
    "scene = canvas()\n",
    "scene.autoscale = False"
   ]
  },
  {
   "cell_type": "code",
   "execution_count": 25,
   "id": "888c64d7",
   "metadata": {},
   "outputs": [],
   "source": [
    "#constants\n",
    "g=-9.8 #9.8 [m/s^2] in the -y direction\n",
    "\n",
    "#timing constants\n",
    "deltat = 0.005 #5ms timesteps = 200 timesteps/second [s]\n",
    "freq = 1/deltat #frequency for rate funciton [1/s\n",
    "\n",
    "\n",
    "#timing variables\n",
    "t = 0 #time starts at 0 [s]\n",
    "endtime = 15 #end time for simulation loop [s]\n",
    "impact_t = 0\n",
    "\n",
    "#time in minutes and seconds for displaying\n",
    "t_m = 0\n",
    "t_s = t\n",
    "\n",
    "#object declarations\n",
    "floor = box(pos = vector(0,0,0),length=300,height=0.5,width=1, color = color.green)\n",
    "ball = sphere(pos = vector(0,3,0),radius=0.5,color = color.red)\n",
    "ball_path = attach_trail(ball)\n",
    "ball_path.color = color.orange\n",
    "ball.velocity = vector(4,3,0)\n",
    "\n",
    "cannon = cylinder(pos=vector(-5,0,0),axis=vector(5,3,0),radius=0.2,color=color.blue)\n",
    "vert_axis = box(pos=vector(0,0,0),length=0.1,height=25,width=0.1,color=color.white)\n",
    "\n",
    "#simulation loop\n",
    "while(t<endtime):\n",
    "    rate(freq)\n",
    "    \n",
    "    #if the ball hits the ground logic\n",
    "    if((ball.pos.y-ball.radius) < (floor.pos.y + floor.size.y/2)):\n",
    "        ball.velocity.y = -1*ball.velocity.y\n",
    "    \n",
    "    #update positions and velocities\n",
    "    ball.velocity.y = ball.velocity.y + g*deltat\n",
    "    ball.pos = ball.pos + ball.velocity*deltat\n",
    "    t = t + deltat\n",
    "    \n",
    "    #update the caption with the current elapsed time\n",
    "    t_m,t_s = divmod(t,60)\n",
    "    scene.caption = \"Time Elapsed: {}:{:.3f}\".format(int(t_m),round(t_s,3))"
   ]
  },
  {
   "cell_type": "code",
   "execution_count": 26,
   "id": "aa1dd6e8",
   "metadata": {
    "scrolled": true
   },
   "outputs": [
    {
     "data": {
      "text/html": [
       "<div id=\"glowscript\" class=\"glowscript\"></div>"
      ],
      "text/plain": [
       "<IPython.core.display.HTML object>"
      ]
     },
     "metadata": {},
     "output_type": "display_data"
    },
    {
     "data": {
      "application/javascript": [
       "if (typeof Jupyter !== \"undefined\") { window.__context = { glowscript_container: $(\"#glowscript\").removeAttr(\"id\")};}else{ element.textContent = ' ';}"
      ],
      "text/plain": [
       "<IPython.core.display.Javascript object>"
      ]
     },
     "metadata": {},
     "output_type": "display_data"
    }
   ],
   "source": [
    "from vpython import *\n",
    "scene = canvas()\n",
    "scene.autoscale = False"
   ]
  },
  {
   "cell_type": "code",
   "execution_count": 27,
   "id": "cbc66138",
   "metadata": {},
   "outputs": [],
   "source": [
    "#constants\n",
    "g=-9.8 #9.8 [m/s^2] in the -y direction\n",
    "\n",
    "#timing constants\n",
    "deltat = 0.005 #5ms timesteps = 200 timesteps/second [s]\n",
    "freq = 1/deltat #frequency for rate funciton [1/s\n",
    "\n",
    "\n",
    "#timing variables\n",
    "t = 0 #time starts at 0 [s]\n",
    "endtime = 15 #end time for simulation loop [s]\n",
    "impact_t = 0\n",
    "\n",
    "#time in minutes and seconds for displaying\n",
    "t_m = 0\n",
    "t_s = t\n",
    "\n",
    "#object declarations\n",
    "floor = box(pos = vector(0,0,0),length=300,height=0.5,width=1, color = color.green)\n",
    "ball = sphere(pos = vector(0,5,0),radius=0.5,color = color.red)\n",
    "ball_path = attach_trail(ball)\n",
    "ball_path.color = color.orange\n",
    "ball.velocity = vector(12,5,0)\n",
    "\n",
    "cannon = cylinder(pos=vector(-13,0,0),axis=vector(13,5,0),radius=0.2,color=color.blue)\n",
    "vert_axis = box(pos=vector(0,0,0),length=0.1,height=25,width=0.1,color=color.white)\n",
    "\n",
    "#simulation loop\n",
    "while(t<endtime):\n",
    "    rate(freq)\n",
    "    \n",
    "    #if the ball hits the ground logic\n",
    "    if((ball.pos.y-ball.radius) < (floor.pos.y + floor.size.y/2)):\n",
    "        ball.velocity.y = -1*ball.velocity.y\n",
    "    \n",
    "    #update positions and velocities\n",
    "    ball.velocity.y = ball.velocity.y + g*deltat\n",
    "    ball.pos = ball.pos + ball.velocity*deltat\n",
    "    t = t + deltat\n",
    "    \n",
    "    #update the caption with the current elapsed time\n",
    "    t_m,t_s = divmod(t,60)\n",
    "    scene.caption = \"Time Elapsed: {}:{:.3f}\".format(int(t_m),round(t_s,3))"
   ]
  },
  {
   "cell_type": "markdown",
   "id": "fa19a3be",
   "metadata": {},
   "source": [
    "# Results\n",
    "Since the ball has an initial upward and rightward momentum, it rises as it \"shoots\" out of the canon before gravity eventually lowers its vertical velocity to 0 and brings it back to the ground. In the first simulation, it exits with a velocity of <4,3,0> and has shorter parabolic bouncing paths. In the second simulaiton, it exits with a velocity of <12,5,0> which gives the ball a much longer arc before it bounces back to the ground."
   ]
  },
  {
   "cell_type": "markdown",
   "id": "92cc0166",
   "metadata": {},
   "source": [
    "# [1.d] Falling with Air Resistance\n",
    "Equation for air resistance on a sphere: = 0.5*(rho)(surface area)(drag coefficient)(velocity)^2. This force is upward as it works in an opposite direction to gravity/an object's velocity. Rho is the density of air which can be approximated to 1.2 kg/m^3. The surface area of the ball is equal to 4*pi*radius^2, but we only consider a circular cross section so pi*radius*radius is used. The drag coefficient depends on the object's shape, but for a sphere is equal to 0.47 (unitless)"
   ]
  },
  {
   "cell_type": "code",
   "execution_count": 28,
   "id": "6f06f800",
   "metadata": {
    "scrolled": false
   },
   "outputs": [
    {
     "data": {
      "text/html": [
       "<div id=\"glowscript\" class=\"glowscript\"></div>"
      ],
      "text/plain": [
       "<IPython.core.display.HTML object>"
      ]
     },
     "metadata": {},
     "output_type": "display_data"
    },
    {
     "data": {
      "application/javascript": [
       "if (typeof Jupyter !== \"undefined\") { window.__context = { glowscript_container: $(\"#glowscript\").removeAttr(\"id\")};}else{ element.textContent = ' ';}"
      ],
      "text/plain": [
       "<IPython.core.display.Javascript object>"
      ]
     },
     "metadata": {},
     "output_type": "display_data"
    }
   ],
   "source": [
    "from vpython import *\n",
    "scene = canvas()\n",
    "scene.autoscale = False"
   ]
  },
  {
   "cell_type": "code",
   "execution_count": 29,
   "id": "3e563982",
   "metadata": {},
   "outputs": [
    {
     "data": {
      "image/png": "[encoded data removed]",
      "text/plain": [
       "<Figure size 1000x400 with 1 Axes>"
      ]
     },
     "metadata": {},
     "output_type": "display_data"
    }
   ],
   "source": [
    "#imports\n",
    "from math import pi\n",
    "import matplotlib.pyplot as plt\n",
    "\n",
    "#constants\n",
    "g = vector(0,-9.8,0) #9.8 [m/s^2] in the -y direction\n",
    "rho = 1.2 # [kg/m^3] #air density\n",
    "bRadius = 0.02 #ball radius going forward [m]\n",
    "sa = pi*(bRadius**2) #surface area [m^2]\n",
    "dc = 0.47 #drag coefficient [unitless]\n",
    "#air resistance without velocity considered\n",
    "ar = 0.5*rho*sa*dc\n",
    "\n",
    "#timing constants\n",
    "deltat = 0.005 #5ms timesteps = 200 timesteps/second [s]\n",
    "freq = 1/deltat #frequency for rate funciton [1/s\n",
    "\n",
    "\n",
    "#timing variables\n",
    "t = 0 #time starts at 0 [s]\n",
    "endtime = 100 #end time for simulation loop [s]\n",
    "impact_t = 0\n",
    "\n",
    "#time in minutes and seconds for displaying\n",
    "t_m = 0\n",
    "t_s = t\n",
    "\n",
    "#object declarations\n",
    "floor = box(pos = vector(0,0,0),length=30,height=0.5,width=1, color = color.green)\n",
    "\n",
    "ball = sphere(pos = vector(0,10.5,0),radius=bRadius*10,color = color.red)\n",
    "ball_path = attach_trail(ball)\n",
    "ball_path.color = color.orange\n",
    "\n",
    "ball1 = sphere(pos=vector(0,100.2,0),radius=bRadius*10,color=color.blue)\n",
    "ball2 = sphere(pos=vector(0,50.2,0),radius =bRadius*10,color=color.orange)\n",
    "ball3 = sphere(pos=vector(0,1.2,0), radius =bRadius*10,color=color.yellow)\n",
    "\n",
    "ball.velocity = vector(0,0,0)\n",
    "ball1.velocity = vector(0,0,0)\n",
    "ball2.velocity = vector(0,0,0)\n",
    "ball3.velocity = vector(0,0,0)\n",
    "\n",
    "#air resistance masses assumtions, close to one another but slightly different to achieve\n",
    "#different terminal velocities\n",
    "ball.m = 0.0027\n",
    "ball1.m = 0.003\n",
    "ball2.m = 0.004\n",
    "ball3.m = 0.005\n",
    "\n",
    "#plotting arrays\n",
    "timeArr = []\n",
    "veloArr = []\n",
    "veloArr1= []\n",
    "veloArr2= []\n",
    "veloArr3= []\n",
    "\n",
    "#simulation loop\n",
    "while(t<endtime):\n",
    "    rate(freq)\n",
    "    \n",
    "    #if the highest ball hits the ground end simulation\n",
    "    if((ball1.pos.y-ball1.radius) < (floor.pos.y + floor.size.y/2)):\n",
    "        impact_t = t\n",
    "        break\n",
    "    #save velocity and time data for plotting different starting heights and\n",
    "    timeArr.append(t)\n",
    "    veloArr.append(-1*ball.velocity.y)\n",
    "    veloArr1.append(-1*ball1.velocity.y)\n",
    "    veloArr2.append(-1*ball2.velocity.y)\n",
    "    veloArr3.append(-1*ball3.velocity.y)\n",
    "    \n",
    "    #apply air resistance\n",
    "    orientVelo = ball.velocity*1\n",
    "    f_ar = ar*(mag(orientVelo/ball.m)**2)*norm(orientVelo)\n",
    "\n",
    "    orientVelo1 = ball1.velocity*1\n",
    "    f_ar1 = ar*(mag(orientVelo1/ball1.m)**2)*norm(orientVelo1)\n",
    "    \n",
    "    orientVelo2 = ball2.velocity*1\n",
    "    f_ar2 = ar*(mag(orientVelo2/ball2.m)**2)*norm(orientVelo2)\n",
    "    \n",
    "    orientVelo3 = ball3.velocity*1\n",
    "    f_ar3 = ar*(mag(orientVelo3/ball3.m)**2)*norm(orientVelo3)\n",
    "    \n",
    "    \n",
    "    #update positions and velocities\n",
    "    ball.velocity = ball.velocity + (g*ball.m-f_ar)*deltat\n",
    "    ball.pos = ball.pos + ball.velocity*deltat/ball.m\n",
    "    \n",
    "    ball1.velocity = ball1.velocity + (g*ball1.m-f_ar1)*deltat\n",
    "    ball1.pos = ball1.pos + ball1.velocity*deltat/ball1.m\n",
    "    \n",
    "    ball2.velocity = ball2.velocity + (g*ball2.m-f_ar2)*deltat\n",
    "    ball2.pos = ball2.pos + ball2.velocity*deltat/ball2.m\n",
    "    \n",
    "    ball3.velocity = ball3.velocity + (g*ball3.m-f_ar3)*deltat\n",
    "    ball3.pos = ball3.pos + ball2.velocity*deltat/ball3.m\n",
    "    \n",
    "    t = t + deltat\n",
    "    \n",
    "    #update the caption with the current elapsed time\n",
    "    t_m,t_s = divmod(t,60)\n",
    "    scene.caption = \"Time Elapsed: {}:{:.3f}\".format(int(t_m),round(t_s,3))\n",
    "    \n",
    "#plotting data after last ball impacts or simulation finishes\n",
    "plt.figure(figsize=(10,4),layout='constrained')\n",
    "plt.plot(timeArr,veloArr,label=\"10m\")\n",
    "plt.plot(timeArr,veloArr1,label=\"100m\")\n",
    "plt.plot(timeArr,veloArr2,label=\"50m\")\n",
    "plt.plot(timeArr,veloArr3,label=\"1m\")\n",
    "plt.xlabel(\"Time[s]\")\n",
    "plt.ylabel(\"Velocity Magnitude[m/s]\")\n",
    "plt.title(\"Velocity through time as a function of starting height\")\n",
    "plt.legend()\n",
    "plt.show()"
   ]
  },
  {
   "cell_type": "markdown",
   "id": "34caa770",
   "metadata": {},
   "source": [
    "# Results\n",
    "Each ball reaches terminal velocity at a slightly different rate due to their different masses. Also it is clear that even though certain balls started higher than others, they all reach a terminal velocity after only a few seconds of falling. The air resistance seems to be working properly considering all balls, regardless of weight, reach a terminal velocity depending on their mass."
   ]
  },
  {
   "cell_type": "markdown",
   "id": "076cd900",
   "metadata": {},
   "source": [
    "# [1.e] Elasitc vs Inelastic Collisions\n",
    "\n",
    "This next simulation will show the difference for elastic and inelastic collisions between the ball and the ground.\n",
    "Assumption: The inelastic collision, shown with a blue ball, is assumed to return 90% of the kinetic energy back into the ball, also known as a Coefficient of Resitution (COR) of 0.90 (unitless). The perfectly elastic collsion, shown with the red ball, returns 100% of the kinetic energy back."
   ]
  },
  {
   "cell_type": "code",
   "execution_count": 30,
   "id": "817b4850",
   "metadata": {
    "scrolled": false
   },
   "outputs": [
    {
     "data": {
      "text/html": [
       "<div id=\"glowscript\" class=\"glowscript\"></div>"
      ],
      "text/plain": [
       "<IPython.core.display.HTML object>"
      ]
     },
     "metadata": {},
     "output_type": "display_data"
    },
    {
     "data": {
      "application/javascript": [
       "if (typeof Jupyter !== \"undefined\") { window.__context = { glowscript_container: $(\"#glowscript\").removeAttr(\"id\")};}else{ element.textContent = ' ';}"
      ],
      "text/plain": [
       "<IPython.core.display.Javascript object>"
      ]
     },
     "metadata": {},
     "output_type": "display_data"
    }
   ],
   "source": [
    "from vpython import *\n",
    "scene = canvas()\n",
    "scene.autoscale = True"
   ]
  },
  {
   "cell_type": "code",
   "execution_count": 31,
   "id": "d15120c3",
   "metadata": {},
   "outputs": [
    {
     "data": {
      "image/png": "[encoded data removed]",
      "text/plain": [
       "<Figure size 1000x400 with 1 Axes>"
      ]
     },
     "metadata": {},
     "output_type": "display_data"
    }
   ],
   "source": [
    "#plotting import\n",
    "import matplotlib.pyplot as plt\n",
    "\n",
    "#constants\n",
    "g=-9.8 #9.8 [m/s^2] in the -y direction\n",
    "\n",
    "#timing constants\n",
    "deltat = 0.005 #5ms timesteps = 200 timesteps/second [s]\n",
    "freq = 1/deltat #frequency for rate funciton [1/s\n",
    "\n",
    "#cor = coefficient of restitution, value depends on materials of object colliding\n",
    "#the CoR reflects the ratio of an objects velocity before and after an inelastic collision\n",
    "cor = 0.9\n",
    "\n",
    "#timing variables\n",
    "t = 0 #time starts at 0 [s]\n",
    "endtime = 30 #end time for simulation loop [s]\n",
    "impact_t = 0\n",
    "\n",
    "#time in minutes and seconds for displaying\n",
    "t_m = 0\n",
    "t_s = t\n",
    "\n",
    "#object declarations\n",
    "floor = box(pos = vector(0,0,0),length=30,height=0.5,width=1, color = color.green)\n",
    "ball = sphere(pos = vector(2,10.5,0),radius=0.5,color = color.red)\n",
    "ball_path = attach_trail(ball)\n",
    "ball_path.color = color.red\n",
    "ball.velocity = vector(0,0,0)\n",
    "\n",
    "ball_inE = sphere(pos =vector(-5,10.5,0),radius=0.5,color = color.blue)\n",
    "ball_path_inE = attach_trail(ball_inE)\n",
    "ball_path_inE.color = color.blue\n",
    "ball_inE.velocity = vector(0,0,0)\n",
    "\n",
    "\n",
    "#plotting arrays\n",
    "timeArrRed = []\n",
    "timeArrBlue = []\n",
    "redArr = []\n",
    "blueArr =[]\n",
    "\n",
    "#simulation loop\n",
    "while(t<endtime):\n",
    "    rate(freq)\n",
    "    \n",
    "    #if the red ball hits the ground logic\n",
    "    if((ball.pos.y-ball.radius) < (floor.pos.y + floor.size.y/2)):\n",
    "        ball.velocity.y = -1*ball.velocity.y\n",
    "    #if the blue ball hits the groud logic, return 95% of KE back into ball\n",
    "    if((ball_inE.pos.y-ball_inE.radius) < (floor.pos.y + floor.size.y/2)):\n",
    "        ball_inE.velocity.y = -1*ball_inE.velocity.y\n",
    "        ball_inE.velocity.y *= cor\n",
    "        \n",
    "    #update positions and velocities\n",
    "    ball.velocity.y = ball.velocity.y + g*deltat\n",
    "    ball.pos = ball.pos + ball.velocity*deltat\n",
    "    ball_inE.velocity.y = ball_inE.velocity.y + g*deltat\n",
    "    ball_inE.pos = ball_inE.pos + ball_inE.velocity*deltat\n",
    "    \n",
    "    t = t + deltat\n",
    "    \n",
    "    #grab data for plotting\n",
    "    if(abs(ball.velocity.y) <= 0.01):\n",
    "        timeArrRed.append(t)\n",
    "        redArr.append(ball.pos.y)\n",
    "    if(abs(ball_inE.velocity.y) <= 0.01):\n",
    "        timeArrBlue.append(t)\n",
    "        blueArr.append(ball_inE.pos.y)\n",
    "    \n",
    "    #update the caption with the current elapsed time\n",
    "    t_m,t_s = divmod(t,60)\n",
    "    scene.caption = \"Time Elapsed: {}:{:.3f}\".format(int(t_m),round(t_s,3))\n",
    "    \n",
    "    \n",
    "#plotting data after last ball impacts or simulation finishes\n",
    "plt.figure(figsize=(10,4),layout='constrained')\n",
    "plt.scatter(timeArrBlue,blueArr,label=\"Blue - 0.9 COR, inelastic\")\n",
    "plt.scatter(timeArrRed,redArr,label=\"Red - Perfectly Elastic\")\n",
    "\n",
    "plt.xlabel(\"Time[s]\")\n",
    "plt.ylabel(\"Peak of Path [m]\")\n",
    "plt.title(\"Peak height after each bounce\")\n",
    "plt.legend()\n",
    "plt.show()"
   ]
  },
  {
   "cell_type": "markdown",
   "id": "40e9d02e",
   "metadata": {},
   "source": [
    "# Results\n",
    "The red ball, which has a perfectly elastic collision with the ground, maintaints its height after each bounce. There is a slight diminish due to sampling rate and floating point value rounding. The blue ball, wich has a 80% Coefficient of Reciprocity, loses 10% of its height each bounce due to the nature of the inelastic collision."
   ]
  },
  {
   "cell_type": "code",
   "execution_count": null,
   "id": "40ff1524",
   "metadata": {},
   "outputs": [],
   "source": []
  }
 ],
 "metadata": {
  "kernelspec": {
   "display_name": "Python 3 (ipykernel)",
   "language": "python",
   "name": "python3"
  },
  "language_info": {
   "codemirror_mode": {
    "name": "ipython",
    "version": 3
   },
   "file_extension": ".py",
   "mimetype": "text/x-python",
   "name": "python",
   "nbconvert_exporter": "python",
   "pygments_lexer": "ipython3",
   "version": "3.8.15"
  }
 },
 "nbformat": 4,
 "nbformat_minor": 5
}
