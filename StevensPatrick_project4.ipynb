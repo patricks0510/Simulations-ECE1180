{
 "cells": [
  {
   "cell_type": "markdown",
   "id": "ad80a19b",
   "metadata": {},
   "source": [
    "# Project 4: Cellular Automata\n",
    "### Author: Patrick Stevens\n",
    "### Email: pls27@pitt.edu\n",
    "\n",
    "\n",
    "# Assumptions\n",
    "Write out assumptions here :)"
   ]
  },
  {
   "cell_type": "code",
   "execution_count": 1,
   "id": "28311168",
   "metadata": {},
   "outputs": [
    {
     "data": {
      "text/html": [
       "<div id=\"glowscript\" class=\"glowscript\"></div>"
      ],
      "text/plain": [
       "<IPython.core.display.HTML object>"
      ]
     },
     "metadata": {},
     "output_type": "display_data"
    },
    {
     "data": {
      "application/javascript": [
       "if (typeof Jupyter !== \"undefined\") { window.__context = { glowscript_container: $(\"#glowscript\").removeAttr(\"id\")};}else{ element.textContent = ' ';}"
      ],
      "text/plain": [
       "<IPython.core.display.Javascript object>"
      ]
     },
     "metadata": {},
     "output_type": "display_data"
    }
   ],
   "source": [
    "#Imports\n",
    "\n",
    "from vpython import *\n",
    "import numpy as np\n",
    "import math\n",
    "import random\n",
    "import copy\n",
    "# importing matplotlib module\n",
    "from matplotlib import pyplot as plt"
   ]
  },
  {
   "cell_type": "code",
   "execution_count": 2,
   "id": "c1f12417",
   "metadata": {},
   "outputs": [
    {
     "data": {
      "image/png": "[encoded data removed]",
      "text/plain": [
       "<Figure size 640x480 with 1 Axes>"
      ]
     },
     "metadata": {},
     "output_type": "display_data"
    },
    {
     "name": "stdout",
     "output_type": "stream",
     "text": [
      "[258, 250, 249, 243]\n"
     ]
    }
   ],
   "source": [
    "#Random Number Generator\n",
    "numCount = [0,0,0,0]\n",
    "for i in range(1000):\n",
    "    num = random.randint(0,3)\n",
    "    numCount[num] += 1\n",
    "    \n",
    "#plot for random verification\n",
    "fix,ax = plt.subplots()\n",
    "\n",
    "ax.bar([0,1,2,3],numCount,linewidth=1, edgecolor=\"white\")\n",
    "\n",
    "ax.set(xlim=(0, 3), xticks=np.arange(0, 3),\n",
    "       ylim=(0, 300), yticks=np.linspace(0, 300, 10))\n",
    "\n",
    "plt.show()\n",
    "print(numCount)"
   ]
  },
  {
   "cell_type": "markdown",
   "id": "ce9cc03f",
   "metadata": {},
   "source": [
    "## Analysis of RNG\n",
    "With each running of the above block, numbers 0-3, representing the 4 options for random movement, are equally distributed with randomness. Each value has ~250 occurences in 1000 selections, but usually none are exactly 250 due to the randomness of numpy.random.randint"
   ]
  },
  {
   "cell_type": "code",
   "execution_count": 3,
   "id": "cf770a8f",
   "metadata": {
    "scrolled": true
   },
   "outputs": [
    {
     "data": {
      "text/html": [
       "<div id=\"glowscript\" class=\"glowscript\"></div>"
      ],
      "text/plain": [
       "<IPython.core.display.HTML object>"
      ]
     },
     "metadata": {},
     "output_type": "display_data"
    },
    {
     "data": {
      "application/javascript": [
       "if (typeof Jupyter !== \"undefined\") { window.__context = { glowscript_container: $(\"#glowscript\").removeAttr(\"id\")};}else{ element.textContent = ' ';}"
      ],
      "text/plain": [
       "<IPython.core.display.Javascript object>"
      ]
     },
     "metadata": {},
     "output_type": "display_data"
    }
   ],
   "source": [
    "#Visualization setup\n",
    "scene = canvas()\n",
    "autoscale = False"
   ]
  },
  {
   "cell_type": "code",
   "execution_count": 4,
   "id": "c03acdd7",
   "metadata": {},
   "outputs": [
    {
     "data": {
      "application/javascript": [
       "if (typeof Jupyter !== \"undefined\") {require.undef(\"nbextensions/vpython_libraries/glow.min\");}else{element.textContent = ' ';}"
      ],
      "text/plain": [
       "<IPython.core.display.Javascript object>"
      ]
     },
     "metadata": {},
     "output_type": "display_data"
    },
    {
     "data": {
      "application/javascript": [
       "if (typeof Jupyter !== \"undefined\") {require.undef(\"nbextensions/vpython_libraries/glowcomm\");}else{element.textContent = ' ';}"
      ],
      "text/plain": [
       "<IPython.core.display.Javascript object>"
      ]
     },
     "metadata": {},
     "output_type": "display_data"
    },
    {
     "data": {
      "application/javascript": [
       "if (typeof Jupyter !== \"undefined\") {require.undef(\"nbextensions/vpython_libraries/jquery-ui.custom.min\");}else{element.textContent = ' ';}"
      ],
      "text/plain": [
       "<IPython.core.display.Javascript object>"
      ]
     },
     "metadata": {},
     "output_type": "display_data"
    },
    {
     "data": {
      "application/javascript": [
       "if (typeof Jupyter !== \"undefined\") {require([\"nbextensions/vpython_libraries/glow.min\"], function(){console.log(\"GLOW LOADED\");});}else{element.textContent = ' ';}"
      ],
      "text/plain": [
       "<IPython.core.display.Javascript object>"
      ]
     },
     "metadata": {},
     "output_type": "display_data"
    },
    {
     "data": {
      "application/javascript": [
       "if (typeof Jupyter !== \"undefined\") {require([\"nbextensions/vpython_libraries/glowcomm\"], function(){console.log(\"GLOWCOMM LOADED\");});}else{element.textContent = ' ';}"
      ],
      "text/plain": [
       "<IPython.core.display.Javascript object>"
      ]
     },
     "metadata": {},
     "output_type": "display_data"
    },
    {
     "data": {
      "application/javascript": [
       "if (typeof Jupyter !== \"undefined\") {require([\"nbextensions/vpython_libraries/jquery-ui.custom.min\"], function(){console.log(\"JQUERY LOADED\");});}else{element.textContent = ' ';}"
      ],
      "text/plain": [
       "<IPython.core.display.Javascript object>"
      ]
     },
     "metadata": {},
     "output_type": "display_data"
    },
    {
     "name": "stdout",
     "output_type": "stream",
     "text": [
      "Position: 0.0, 0.0\n"
     ]
    }
   ],
   "source": [
    "#create grid for walker\n",
    "for x in range(-50,50,1):\n",
    "    for y in range(-50,50,1):\n",
    "        newDot = points(pos=vector(x,y,0), radius=3,color=color.white)\n",
    "\n",
    "#create walker object\n",
    "walker = box(pos=vector(0,0,0),length=1.5, height=1.5, width=0.1, color=color.green, make_trail = True)\n",
    "\n",
    "\n",
    "sleep(3)\n",
    "\n",
    "stepCount = 0\n",
    "N = 100\n",
    "while(stepCount < N):\n",
    "    rate(5)\n",
    "    #get random step value\n",
    "    thisStep = random.randint(0,3)\n",
    "    #print(thisStep)\n",
    "    \n",
    "    #switch case to move walker\n",
    "    # 0 -> +x : 1 -> -x : 2 -> +y : 3 -> -y\n",
    "#     if thisStep == 0:\n",
    "#         walker.pos.x +=1\n",
    "#     elif thisStep == 1:\n",
    "#         walker.pos.x -= 1\n",
    "#     elif thisStep == 2:\n",
    "#         walker.pos.y += 1\n",
    "#     elif thisStep == 3:\n",
    "#         walker.pos.y -= 1\n",
    "\n",
    "    #alt version\n",
    "    stepVec = vector(0,0,0)\n",
    "    if thisStep == 0:\n",
    "        stepVec = vector(1,0,0)\n",
    "    elif thisStep == 1:\n",
    "        stepVec = vector(-1,0,0)\n",
    "    elif thisStep == 2:\n",
    "        stepVec = vector(0,1,0)\n",
    "    elif thisStep == 3:\n",
    "        stepVec = vector(0,-1,0)\n",
    "    \n",
    "    walker.pos = walker.pos + stepVec\n",
    "    stepCount +=1\n",
    "    \n",
    "    \n",
    "print('Position: ' + str(walker.pos.x) + ', '+ str(walker.pos.y))"
   ]
  },
  {
   "cell_type": "code",
   "execution_count": 5,
   "id": "6aa40a7e",
   "metadata": {},
   "outputs": [
    {
     "data": {
      "image/png": "[encoded data removed]",
      "text/plain": [
       "<Figure size 200x200 with 1 Axes>"
      ]
     },
     "metadata": {},
     "output_type": "display_data"
    },
    {
     "name": "stdout",
     "output_type": "stream",
     "text": [
      "9.030258241165548\n",
      "vs expected sqrt(N) = 10.0\n"
     ]
    }
   ],
   "source": [
    "#Multiple Runs, no visualization of walker\n",
    "iterations = 50\n",
    "currIt = 0\n",
    "N = 100\n",
    "iterNum = []\n",
    "finalCoords = []\n",
    "while(currIt < iterations):\n",
    "    iterNum.append(currIt)\n",
    "\n",
    "    \n",
    "    #reset walker for next iteration\n",
    "    stepCount = 0\n",
    "    finalPos = []\n",
    "    x = 0\n",
    "    y = 0\n",
    "    while(stepCount < N):\n",
    "        #get random step value\n",
    "        thisStep = random.randint(0,3)\n",
    "\n",
    "        #switch case to move walker\n",
    "        # 0 -> +x : 1 -> -x : 2 -> +y : 3 -> -y\n",
    "        if thisStep == 0:\n",
    "            x +=1\n",
    "        elif thisStep == 1:\n",
    "            x -= 1\n",
    "        elif thisStep == 2:\n",
    "            y += 1\n",
    "        elif thisStep == 3:\n",
    "            y -= 1\n",
    "\n",
    "        stepCount +=1\n",
    "\n",
    "    finalPos = [x,y]\n",
    "    finalCoords.append(finalPos)\n",
    "    \n",
    "    currIt += 1\n",
    "    \n",
    "finalDists = []\n",
    "for coords in finalCoords:\n",
    "    finalDist = np.sqrt(coords[0]**2+coords[1]**2)\n",
    "    finalDists.append(finalDist)\n",
    "\n",
    "#sortedFinalDists \n",
    "#plot final distances from center\n",
    "plt.style.use('_mpl-gallery')\n",
    "\n",
    "# size and color:\n",
    "# sizes = np.random.uniform(15, 80, len(iterNum))\n",
    "# colors = np.random.uniform(15, 80, len(iterNum))\n",
    "\n",
    "# plot\n",
    "fig, ax = plt.subplots()\n",
    "\n",
    "ax.scatter(iterNum, finalDists, s=1, color='b')\n",
    "finalDists.sort()\n",
    "ax.scatter(iterNum,finalDists,s=1,color='r')\n",
    "# ax.set(xlim=(0, 8), xticks=np.arange(1, 8),\n",
    "#        ylim=(0, 8), yticks=np.arange(1, 8))\n",
    "\n",
    "plt.show()\n",
    "\n",
    "avg = 0\n",
    "for num in finalDists:\n",
    "    avg += num\n",
    "avg /= len(finalDists)\n",
    "print(avg)\n",
    "print('vs expected sqrt(N) = ' + str(np.sqrt(N)))"
   ]
  },
  {
   "cell_type": "markdown",
   "id": "f9d79120",
   "metadata": {},
   "source": [
    "# Analysis of many runs\n",
    "After running 50 iterations of walkers taking 100 random steps, the scatter plot shows in blue that there is a wide variety of final distances from the origin, ranging from over twenty to as low as 0. The red scatter plot shows these 50 random iterations sorted from lowest to highest final distance. Finally underneath the plot, I compare the average distance from the origin to the expected average distance of sqrt(N). The actual distance seems to always be below the expected average."
   ]
  },
  {
   "cell_type": "markdown",
   "id": "c2634399",
   "metadata": {},
   "source": [
    "# Two State Cellular Automota\n",
    "Using Rule 60, black cells are alive, white are not"
   ]
  },
  {
   "cell_type": "code",
   "execution_count": 6,
   "id": "49ee2f2a",
   "metadata": {
    "scrolled": true
   },
   "outputs": [
    {
     "data": {
      "text/html": [
       "<div id=\"glowscript\" class=\"glowscript\"></div>"
      ],
      "text/plain": [
       "<IPython.core.display.HTML object>"
      ]
     },
     "metadata": {},
     "output_type": "display_data"
    },
    {
     "data": {
      "application/javascript": [
       "if (typeof Jupyter !== \"undefined\") { window.__context = { glowscript_container: $(\"#glowscript\").removeAttr(\"id\")};}else{ element.textContent = ' ';}"
      ],
      "text/plain": [
       "<IPython.core.display.Javascript object>"
      ]
     },
     "metadata": {},
     "output_type": "display_data"
    }
   ],
   "source": [
    "scene2 = canvas(background = color.gray(0.5))\n",
    "autoscale = True"
   ]
  },
  {
   "cell_type": "code",
   "execution_count": 7,
   "id": "8412a1a5",
   "metadata": {},
   "outputs": [],
   "source": [
    "#starting condition, len(arr)/2 = true, rest = false\n",
    "#calc next state, compare to rule\n",
    "#change next state to current state\n",
    "#repeat\n",
    "\n",
    "\n",
    "#num iterations, which is half the dimWidth/2-1\n",
    "itNum = 31\n",
    "#dimension width\n",
    "dimWidth = 64\n",
    "# #define rule 60\n",
    "# rule = [0,0,1,1,1,1,0,0]\n",
    "scene2.center = vector(dimWidth//2,0,0)\n",
    "#define starting condition for current state\n",
    "currState = [0]*dimWidth\n",
    "nextState = [0]*dimWidth\n",
    "currState[dimWidth//2] = 1\n",
    "\n",
    "#define vpython visualization object for two state cell automata\n",
    "newCell = box(pos=vector(-2,2,0),length = 1, height = 1, width = 0.1, color = color.cyan)\n",
    "cells = [newCell]*dimWidth\n",
    "for cell in range(dimWidth):\n",
    "    if(currState[cell] == 0):\n",
    "        newCell = box(pos=vector(cell,itNum,0), length = 1, height = 1, width = 0.1, color = color.white)\n",
    "        cells[cell] = newCell\n",
    "    else:\n",
    "        newCell = box(pos=vector(cell,itNum,0), length = 1, height = 1, width = 0.1, color = color.black)\n",
    "        cells[cell] = newCell\n",
    "\n",
    "\n",
    "\n",
    "currIt = 0\n",
    "while currIt < itNum:\n",
    "    for cell in range(dimWidth-1,0,-1):\n",
    "        alive = 0\n",
    "        a,b,c = 0,0,0\n",
    "        #print(\"CELL \" + str(cell))\n",
    "        if cell != 0 and cell < dimWidth-1:\n",
    "            #middle of state array\n",
    "            a = currState[cell-1]\n",
    "            b = currState[cell]\n",
    "            c = currState[cell+1]\n",
    "        elif cell == 0:\n",
    "            #edge of state array\n",
    "            a = 0\n",
    "            b = currState[cell]\n",
    "            c = currState[cell+1]\n",
    "        elif cell == dimWidth-1:\n",
    "            #far edge of state array\n",
    "            a = currState[cell-1]\n",
    "            b = currState[cell]\n",
    "            c = 0\n",
    "        if(currIt == itNum-1) and (cell == 0):\n",
    "            print(a,b,c)\n",
    "\n",
    "        #rule 60 logic via k-map\n",
    "        if((a and not b) or ( not a and b)):\n",
    "            alive = 1\n",
    "        else:\n",
    "            alive = 0\n",
    "        nextState[cell] = alive\n",
    "    \n",
    "    #overwrite currentState with nextState\n",
    "    currState = nextState\n",
    "    for cell in range(dimWidth):\n",
    "        if(currState[cell] == 0):\n",
    "            newCell = box(pos=vector(cell,itNum-currIt-1,0), length = 1, height = 1, width = 0.1, color = color.white)\n",
    "            cells[cell] = newCell\n",
    "        else:\n",
    "            newCell = box(pos=vector(cell,itNum-currIt-1,0), length = 1, height = 1, width = 0.1, color = color.black)\n",
    "            cells[cell] = newCell\n",
    "    currIt += 1"
   ]
  },
  {
   "cell_type": "markdown",
   "id": "409fd3df",
   "metadata": {},
   "source": [
    "# Analysis of 1-D Cell Automaton\n",
    "Stopping condition is reliant on the width of the cell array. Since the starting \"alive\" cell is in the middle of the array, the edge will be reached within width/2-1 iterations due to the nature of rule 60. Other rules may have different stopping times, some may loop forever without reaching the edge, but going to width/2-1 will allow for the pattern to emerge"
   ]
  },
  {
   "cell_type": "markdown",
   "id": "c59b5683",
   "metadata": {},
   "source": [
    "# Conway's Game of Life\n",
    "Oh boy here we go"
   ]
  },
  {
   "cell_type": "code",
   "execution_count": 62,
   "id": "577cb214",
   "metadata": {
    "scrolled": true
   },
   "outputs": [
    {
     "data": {
      "text/html": [
       "<div id=\"glowscript\" class=\"glowscript\"></div>"
      ],
      "text/plain": [
       "<IPython.core.display.HTML object>"
      ]
     },
     "metadata": {},
     "output_type": "display_data"
    },
    {
     "data": {
      "application/javascript": [
       "if (typeof Jupyter !== \"undefined\") { window.__context = { glowscript_container: $(\"#glowscript\").removeAttr(\"id\")};}else{ element.textContent = ' ';}"
      ],
      "text/plain": [
       "<IPython.core.display.Javascript object>"
      ]
     },
     "metadata": {},
     "output_type": "display_data"
    }
   ],
   "source": [
    "scene3 = canvas()\n",
    "autoscale = False"
   ]
  },
  {
   "cell_type": "code",
   "execution_count": 63,
   "id": "1b2b9fc7",
   "metadata": {},
   "outputs": [],
   "source": [
    "#TO DO\n",
    "# Define Grid\n",
    "# Define rules\n",
    "# apply rules and update\n",
    "# loop and keep applying rules\n",
    "\n",
    "#grid is to be considered an NxN grid, that loops around the edges\n",
    "N = 4\n",
    "scene3.center = vector(N//2,N//2,0)\n",
    "\n",
    "\n",
    "vgrid = []\n",
    "grid = []\n",
    "for i in range(N):\n",
    "    vrow = []\n",
    "    row = []\n",
    "    for j in range(N):\n",
    "        cColor = color.white\n",
    "        val = 0\n",
    "        num = np.random.rand()\n",
    "        if(num > 0.50):\n",
    "            cColor = color.red\n",
    "            val = 1\n",
    "        vrow.append(box(pos = vec(i,j,0), height = 0.9, length = 0.9, width = 0.1, color = cColor))\n",
    "        row.append(val)\n",
    "    vgrid.append(vrow)\n",
    "    grid.append(row)\n",
    "\n",
    "#newGrid = copy.copy(grid)\n",
    "#newVgrid = copy.copy(vgrid)\n",
    "\n",
    "sleep(1)\n",
    "t = 0\n",
    "endTime = 60\n",
    "while t < endTime:\n",
    "    rate(1)\n",
    "    for i in range(N):\n",
    "        for j in range(N):\n",
    "                # compute 8-neighbor sum\n",
    "                # using toroidal boundary conditions - x and y wrap around\n",
    "                # so that the simulation takes place on a toroidal surface.\n",
    "                # in python, -1%N = N-1\n",
    "                upOne = (i-1)%N\n",
    "                downOne = (i+1)%N\n",
    "                backOne = (j-1)%N\n",
    "                forwardOne = (j+1)%N\n",
    "                total = int(grid[i][backOne] + grid[i][forwardOne] +\n",
    "                             grid[upOne][j] + grid[downOne][j] +\n",
    "                             grid[upOne][backOne] + grid[upOne][forwardOne] +\n",
    "                             grid[downOne][backOne] + grid[downOne][forwardOne])\n",
    "\n",
    "                # apply Conway's rules\n",
    "                if grid[i][j]  == 1: #if cell on\n",
    "                    if (total < 2) or (total > 3): #if neighbors = 0,1,4,5,6,7,8, turn off cell\n",
    "                        grid[i][j] = 0\n",
    "                        vgrid[i][j].color = color.white\n",
    "                    else:\n",
    "                        grid[i][j] = 1\n",
    "                        vgrid[i][j].color = color.red\n",
    "\n",
    "                else: #if cell off\n",
    "                    if total == 3: #if exactly 3 neighbors, turn on cell\n",
    "                        grid[i][j] = 1\n",
    "                        vgrid[i][j].color = color.red\n",
    "                        \n",
    "                    else:\n",
    "                        grid[i][j] = 0\n",
    "                        vgrid[i][j].color = color.white\n",
    "    #write changes back to grid\n",
    "    #grid = copy.copy(newGrid)\n",
    "    #vgrid = copy.copy(newVgrid)\n",
    "    \n",
    "    t += 1"
   ]
  },
  {
   "cell_type": "markdown",
   "id": "924d5a16",
   "metadata": {},
   "source": [
    "# Analysis\n",
    "The game of life seems to be working as expected when there is no computation issues. It seems as though sometimes with larger grids, the edge cases of 2, 3, and 4 neighbors doesn't update on the correct cycle and then incorrectly turns a cell on/off."
   ]
  },
  {
   "cell_type": "code",
   "execution_count": null,
   "id": "5c6ff89c",
   "metadata": {},
   "outputs": [],
   "source": []
  }
 ],
 "metadata": {
  "kernelspec": {
   "display_name": "Python 3 (ipykernel)",
   "language": "python",
   "name": "python3"
  },
  "language_info": {
   "codemirror_mode": {
    "name": "ipython",
    "version": 3
   },
   "file_extension": ".py",
   "mimetype": "text/x-python",
   "name": "python",
   "nbconvert_exporter": "python",
   "pygments_lexer": "ipython3",
   "version": "3.8.15"
  }
 },
 "nbformat": 4,
 "nbformat_minor": 5
}
